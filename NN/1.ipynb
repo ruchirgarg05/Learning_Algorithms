{
  "cells": [
    {
      "cell_type": "code",
      "execution_count": 5,
      "id": "fdb69bfe",
      "metadata": {},
      "outputs": [],
      "source": [
        "from sklearn import preprocessing\n",
        "from sklearn.model_selection import train_test_split\n",
        "from sklearn.neighbors import KNeighborsClassifier\n",
        "from sklearn.metrics import classification_report, confusion_matrix, accuracy_score\n",
        "import matplotlib.pyplot as plt\n",
        "import seaborn as sns\n",
        "import pandas as pd\n",
        "import idx2numpy\n",
        "import numpy as np\n",
        "import heapq"
      ]
    },
    {
      "cell_type": "code",
      "execution_count": 6,
      "id": "11b0eeb3",
      "metadata": {},
      "outputs": [],
      "source": [
        "X_train = idx2numpy.convert_from_file(\"data/train-images-idx3-ubyte\")\n",
        "Y_train = idx2numpy.convert_from_file(\"data/train-labels-idx1-ubyte\")\n",
        "X_test = idx2numpy.convert_from_file(\"data/t10k-images-idx3-ubyte\")\n",
        "Y_test = idx2numpy.convert_from_file(\"data/t10k-labels-idx1-ubyte\")\n",
        "\n",
        "X_train = X_train.reshape(X_train.shape[0], X_train.shape[1]*X_train.shape[2])\n",
        "X_test = X_test.reshape(X_test.shape[0], X_test.shape[1]*X_test.shape[2])\n",
        "# Normalize the data\n",
        "MinMaxScaler = preprocessing.MinMaxScaler()\n",
        "X_data_minmax = MinMaxScaler.fit_transform(X_train)\n",
        "X_test_data_minmax = MinMaxScaler.fit_transform(X_test)"
      ]
    },
    {
      "cell_type": "code",
      "execution_count": 7,
      "id": "5c3744c8",
      "metadata": {},
      "outputs": [],
      "source": [
        "def subsample_training(X, Y, M, return_id = False):\n",
        "    from numpy.random import default_rng\n",
        "    assert X.shape[0] == Y.shape[0]\n",
        "    assert M < X.shape[0]\n",
        "    rng = default_rng()\n",
        "    idxs = rng.choice(X.shape[0], size=M, replace=False)\n",
        "    if return_id:\n",
        "        return X.take(idxs, axis=0), Y.take(idxs, axis=0), idxs\n",
        "    else:\n",
        "        return X.take(idxs, axis=0), Y.take(idxs, axis=0)\n"
      ]
    },
    {
      "cell_type": "code",
      "execution_count": 61,
      "id": "1c9ecccc",
      "metadata": {},
      "outputs": [],
      "source": [
        "def remove_outliers(X, Y):\n",
        "    knn_clf=KNeighborsClassifier(n_neighbors=5, metric=\"euclidean\")\n",
        "    knn_clf.fit(X, Y)\n",
        "    ypred=knn_clf.predict(X)\n",
        "    outliers = ypred != Y\n",
        "    # remove outliers\n",
        "    X, Y = X[~outliers], Y[~outliers]\n",
        "    return X, Y\n",
        "\n",
        "\n",
        "def keep_useful(X, Y):\n",
        "    useful_X, useful_Y = [], []\n",
        "    labels_vis = set()\n",
        "    for x, y in zip(X, Y):\n",
        "        if y not in labels_vis:\n",
        "            useful_X.append(x)\n",
        "            useful_Y.append(y)\n",
        "            labels_vis.add(y)\n",
        "        else:\n",
        "            # Check if the value is misclassified\n",
        "            #import ipdb;ipdb.set_trace()\n",
        "            knn_clf=KNeighborsClassifier(n_neighbors=1, metric=\"euclidean\")\n",
        "            knn_clf.fit(useful_X, useful_Y)\n",
        "            ypred=knn_clf.predict([x])\n",
        "            if ypred[0] != y:\n",
        "                useful_X.append(x)\n",
        "                useful_Y.append(y)\n",
        "    return useful_X, useful_Y   \n",
        "\n",
        "def distance(x1, x2):\n",
        "    return np.sum((x1-x2)**2)\n",
        "\n",
        "def preprocess_pair_wise_distance(X, Y):\n",
        "    distances = []\n",
        "    for i, (xs1, _) in enumerate(zip(X, Y)):\n",
        "        euc_sum = 0.\n",
        "        for j, (xs2, _) in enumerate(zip(X, Y)):\n",
        "            if i == j:\n",
        "                continue\n",
        "            euc_sum += distance(xs1, xs2)            \n",
        "        distances.append(euc_sum)\n",
        "    return distances\n",
        "    \n",
        "\n",
        "def get_max_distance_idx(distances):    \n",
        "    max_distance, max_idx = -1., None\n",
        "    for idx, euc_sum in enumerate(distances):\n",
        "        if max_distance < euc_sum:\n",
        "            max_distance = euc_sum\n",
        "            max_idx = idx \n",
        "    return max_idx        \n",
        "\n",
        "    \n",
        "\n",
        "def update_distances(X, Y, idx, xn, distances):\n",
        "    xo = X[idx]\n",
        "    new_dis_sum = 0.\n",
        "    for i, euc_sum in enumerate(distances):\n",
        "        if i == idx:\n",
        "            continue\n",
        "        ns = distance(xn, X[i])\n",
        "        new_dis_sum += ns\n",
        "        euc_sum -= distance(xo, X[i])\n",
        "        euc_sum += ns\n",
        "        distances[i] = euc_sum\n",
        "    distances[idx] = new_dis_sum\n",
        "    return distances\n",
        "\n",
        "\n",
        "\n",
        "def iteratively_select_best_information(X, Y, M):\n",
        "    # Initialize randomly\n",
        "    Xs, Ys, idxs = subsample_training(X, Y, M, return_id=True)\n",
        "    # Calculate the sum of pairwise distance for each of the sample\n",
        "    distances = preprocess_pair_wise_distance(Xs, Ys)\n",
        "    for i, (x, y) in enumerate(zip(X, Y)):\n",
        "        if i not in idxs:\n",
        "            knn_clf=KNeighborsClassifier(n_neighbors=1, metric=\"euclidean\")\n",
        "            knn_clf.fit(Xs, Ys)\n",
        "            ypred=knn_clf.predict([x])\n",
        "            if y != ypred:\n",
        "                # This is useful, insert this and remove the least useful information,\n",
        "                # remove the max_distance from the Xs, Ys from the real data distribution.\n",
        "                idx = get_max_distance_idx(distances)\n",
        "                distances = update_distances(Xs, Ys, idx, x, distances)\n",
        "                Xs[idx] = x\n",
        "                Ys[idx] = y\n",
        "    return Xs, Ys            \n",
        "\n",
        "\n",
        "\n",
        "def prototype_selection(X, Y):\n",
        "    orignal_sz = len(Y)\n",
        "    X, Y = remove_outliers(X, Y)\n",
        "    X, Y = keep_useful(X, Y)\n",
        "    print(f\"Factor by which the dataset is reduces is {orignal_sz/len(Y)} \")\n",
        "    return X, Y"
      ]
    },
    {
      "cell_type": "code",
      "execution_count": 59,
      "id": "27f56144",
      "metadata": {},
      "outputs": [],
      "source": [
        "def predict_values_and_calculate_accuracy_uniform_random(M):\n",
        "    # 1 NN, distance = Euclidian\n",
        "    knn_clf=KNeighborsClassifier(n_neighbors=1, metric=\"euclidean\")\n",
        "    X, Y = subsample_training(X_data_minmax, Y_train, M)\n",
        "    knn_clf.fit(X, Y)\n",
        "    ypred=knn_clf.predict(X_test_data_minmax)\n",
        "    # result = confusion_matrix(Y_test, ypred)\n",
        "    # print(\"Confusion Matrix:\")\n",
        "    # print(result)\n",
        "    # result1 = classification_report(Y_test, ypred)\n",
        "    # print(\"Classification Report:\",)\n",
        "    # print (result1)\n",
        "    result2 = accuracy_score(Y_test,ypred)\n",
        "    # print(type(result1))\n",
        "    print(\"Accuracy:\",result2)\n",
        "    return result2\n",
        "\n",
        "def predict_values_and_calculate_accuracy_prototype_subset(Xs, Ys):\n",
        "    # 1 NN, distance = Euclidian\n",
        "    knn_clf=KNeighborsClassifier(n_neighbors=1, metric=\"euclidean\")\n",
        "    #X, Y = subsample_training(X_data_minmax, Y_train, M)\n",
        "    # X, Y = prototype_selection(X, Y)\n",
        "\n",
        "    knn_clf.fit(Xs, Ys)\n",
        "    ypred=knn_clf.predict(X_test_data_minmax)\n",
        "    # result = confusion_matrix(Y_test, ypred)\n",
        "    # print(\"Confusion Matrix:\")\n",
        "    # print(result)\n",
        "    #result1 = classification_report(Y_test, ypred)\n",
        "    #print(\"Classification Report:\",)\n",
        "    #print (result1)\n",
        "    result2 = accuracy_score(Y_test,ypred)\n",
        "    #print(\"Accuracy:\",result2)\n",
        "    return result2\n",
        "\n",
        "\n"
      ]
    },
    {
      "cell_type": "code",
      "execution_count": 63,
      "id": "80a226e7",
      "metadata": {},
      "outputs": [
        {
          "data": {
            "text/plain": [
              "0.9378"
            ]
          },
          "execution_count": 63,
          "metadata": {},
          "output_type": "execute_result"
        }
      ],
      "source": [
        "predict_values_and_calculate_accuracy_prototype_subset(XP, YP)"
      ]
    },
    {
      "cell_type": "code",
      "execution_count": 66,
      "id": "eae06acf",
      "metadata": {},
      "outputs": [
        {
          "data": {
            "text/plain": [
              "[]"
            ]
          },
          "execution_count": 66,
          "metadata": {},
          "output_type": "execute_result"
        }
      ],
      "source": [
        "import pickle\n",
        "with open(\"prototype_X.pkl\", \"wb\") as fd:\n",
        "    pickle.dump(XP, fd)\n",
        "with open(\"prototype_Y.pkl\", \"wb\") as fd:\n",
        "    pickle.dump(XY, fd)    "
      ]
    },
    {
      "cell_type": "code",
      "execution_count": 34,
      "id": "c9a8f91d",
      "metadata": {},
      "outputs": [],
      "source": [
        "import pickle\n",
        "with open(\"prototype_X.pkl\", \"rb\") as fd:\n",
        "    XP = pickle.load( fd)\n",
        "with open(\"prototype_Y.pkl\", \"rb\") as fd:\n",
        "    YP = pickle.load(fd)   "
      ]
    },
    {
      "cell_type": "code",
      "execution_count": 81,
      "id": "385f2f25",
      "metadata": {},
      "outputs": [],
      "source": [
        "def test_multiple_iterations(num_iterations=5):\n",
        "    import matplotlib.pyplot as plt\n",
        "    import numpy as np\n",
        "    fig, ax = plt.subplots()\n",
        "    Ms = [1000, 3000, 5000, 10000]\n",
        "    means = []\n",
        "    mean_p2std = [ ]\n",
        "    mean_n2std = [ ]\n",
        "    accuracies_prototype_selection = []\n",
        "    for i, M in enumerate(Ms):\n",
        "        XP1, YP1 = iteratively_select_best_information(X_data_minmax, Y_train, M)\n",
        "        accuracies_prototype_selection.append(predict_values_and_calculate_accuracy_prototype_subset(XP1, YP1)) \n",
        "        accuracies_uniform = []        \n",
        "        for i in range(num_iterations):\n",
        "            accuracies_uniform.append(predict_values_and_calculate_accuracy_uniform_random(M))\n",
        "        mean, std = np.mean(accuracies_uniform), np.std(accuracies_uniform)\n",
        "        print(mean, std)\n",
        "        means.append(mean)\n",
        "        mean_p2std.append(mean+2*std)\n",
        "        mean_n2std.append(mean-2*std)            \n",
        "    ax.fill_between(Ms, mean_n2std, mean_p2std, alpha=0.3, label=\"confidence region\")\n",
        "    ax.plot(Ms, means, \"g\",label=\"mean of uniform random\")# the label locations\n",
        "    ax.plot(Ms, accuracies_prototype_selection, label=\"prototype_accuaracy\")\n",
        "    ax.set_ylim(0.8, 1.0)\n",
        "\n",
        "    plt.legend()\n",
        "    plt.show()    "
      ]
    },
    {
      "cell_type": "code",
      "execution_count": 82,
      "id": "a47287c5",
      "metadata": {},
      "outputs": [
        {
          "name": "stdout",
          "output_type": "stream",
          "text": [
            "Accuracy: 0.8797\n",
            "Accuracy: 0.8874\n",
            "Accuracy: 0.8857\n",
            "Accuracy: 0.883\n",
            "Accuracy: 0.8856\n",
            "0.8842800000000001 0.002687303481187032\n",
            "Accuracy: 0.9212\n",
            "Accuracy: 0.9225\n",
            "Accuracy: 0.9299\n",
            "Accuracy: 0.9185\n",
            "Accuracy: 0.9207\n",
            "0.92256 0.003890295618587345\n",
            "Accuracy: 0.9324\n",
            "Accuracy: 0.9344\n",
            "Accuracy: 0.9341\n",
            "Accuracy: 0.9345\n",
            "Accuracy: 0.9338\n",
            "0.93384 0.0007605261336732632\n",
            "Accuracy: 0.948\n",
            "Accuracy: 0.9489\n",
            "Accuracy: 0.9481\n",
            "Accuracy: 0.9472\n",
            "Accuracy: 0.9482\n",
            "0.94808 0.0005418486873657423\n"
          ]
        },
        {
          "data": {
            "image/png": "[encoded data removed]",
            "text/plain": [
              "<Figure size 432x288 with 1 Axes>"
            ]
          },
          "metadata": {
            "needs_background": "light"
          },
          "output_type": "display_data"
        }
      ],
      "source": [
        "test_multiple_iterations(5)"
      ]
    },
    {
      "cell_type": "code",
      "execution_count": 92,
      "id": "119a9ec1",
      "metadata": {},
      "outputs": [],
      "source": []
    },
    {
      "cell_type": "code",
      "execution_count": 93,
      "id": "8856b185",
      "metadata": {},
      "outputs": [
        {
          "name": "stdout",
          "output_type": "stream",
          "text": [
            "Classification Report:\n",
            "              precision    recall  f1-score   support\n",
            "\n",
            "           0       0.98      0.99      0.99       980\n",
            "           1       0.97      0.99      0.98      1135\n",
            "           2       0.98      0.96      0.97      1032\n",
            "           3       0.96      0.96      0.96      1010\n",
            "           4       0.97      0.96      0.97       982\n",
            "           5       0.95      0.96      0.96       892\n",
            "           6       0.98      0.99      0.98       958\n",
            "           7       0.96      0.96      0.96      1028\n",
            "           8       0.98      0.94      0.96       974\n",
            "           9       0.96      0.96      0.96      1009\n",
            "\n",
            "    accuracy                           0.97     10000\n",
            "   macro avg       0.97      0.97      0.97     10000\n",
            "weighted avg       0.97      0.97      0.97     10000\n",
            "\n",
            "Accuracy: 0.9691\n"
          ]
        }
      ],
      "source": [
        "\n"
      ]
    },
    {
      "cell_type": "code",
      "execution_count": 50,
      "id": "2b8db25f",
      "metadata": {},
      "outputs": [],
      "source": [
        "\n",
        "    "
      ]
    },
    {
      "cell_type": "code",
      "execution_count": 55,
      "id": "1e266ec4",
      "metadata": {},
      "outputs": [],
      "source": []
    },
    {
      "cell_type": "code",
      "execution_count": 49,
      "id": "c6c378c8",
      "metadata": {},
      "outputs": [],
      "source": []
    },
    {
      "cell_type": "code",
      "execution_count": null,
      "id": "cded3409",
      "metadata": {},
      "outputs": [],
      "source": []
    },
    {
      "cell_type": "code",
      "execution_count": null,
      "id": "a3bb7d99",
      "metadata": {},
      "outputs": [],
      "source": []
    },
    {
      "cell_type": "code",
      "execution_count": 24,
      "id": "aee5b589",
      "metadata": {},
      "outputs": [
        {
          "data": {
            "text/plain": [
              "array([[[3, 4, 5, 6],\n",
              "        [5, 6, 7, 8]],\n",
              "\n",
              "       [[4, 4, 5, 6],\n",
              "        [5, 6, 7, 9]]])"
            ]
          },
          "execution_count": 24,
          "metadata": {},
          "output_type": "execute_result"
        }
      ],
      "source": [
        "x = np.array([[[1, 2, 3, 4], [2, 3, 4, 5]],\n",
        "              [[3, 4, 5, 6], [5, 6, 7, 8]],\n",
        "              [[4, 4, 5, 6], [5, 6, 7, 9]]])\n",
        "#x[np.array([0, 1, 1], dtype=\"bool\")]\n",
        "x.take([1,2], axis=0)"
      ]
    },
    {
      "cell_type": "code",
      "execution_count": null,
      "id": "e96f1aae",
      "metadata": {},
      "outputs": [],
      "source": []
    }
  ],
  "metadata": {
    "colab": {
      "name": "HAP_simulation.ipynb",
      "provenance": []
    },
    "kernelspec": {
      "display_name": "Python 3",
      "language": "python",
      "name": "python3"
    },
    "language_info": {
      "codemirror_mode": {
        "name": "ipython",
        "version": 3
      },
      "file_extension": ".py",
      "mimetype": "text/x-python",
      "name": "python",
      "nbconvert_exporter": "python",
      "pygments_lexer": "ipython3",
      "version": "3.9.7"
    }
  },
  "nbformat": 4,
  "nbformat_minor": 5
}
